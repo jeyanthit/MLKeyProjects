{
 "cells": [
  {
   "cell_type": "code",
   "execution_count": 2,
   "id": "a92b3880",
   "metadata": {},
   "outputs": [
    {
     "name": "stdout",
     "output_type": "stream",
     "text": [
      "Accuracy: 0.7690322580645161\n",
      "Classification Report:\n",
      "              precision    recall  f1-score   support\n",
      "\n",
      "        cats       0.93      0.46      0.62      1256\n",
      "        dogs       0.73      0.98      0.83      1844\n",
      "\n",
      "    accuracy                           0.77      3100\n",
      "   macro avg       0.83      0.72      0.73      3100\n",
      "weighted avg       0.81      0.77      0.75      3100\n",
      "\n"
     ]
    }
   ],
   "source": [
    "import pandas as pd\n",
    "from sklearn.model_selection import train_test_split\n",
    "from sklearn.feature_extraction.text import CountVectorizer, TfidfVectorizer\n",
    "from sklearn.naive_bayes import MultinomialNB\n",
    "from sklearn.metrics import accuracy_score, classification_report\n",
    "\n",
    "# Step 1: Data Preprocessing\n",
    "# Load the dataset\n",
    "data = pd.read_csv(\"dataset/Text Classification.csv\")  # Replace \"dataset.csv\" with the actual file path\n",
    "\n",
    "# Preprocess the text data\n",
    "# You can use libraries like NLTK or spaCy for more advanced preprocessing\n",
    "# Here, we'll perform simple preprocessing\n",
    "def preprocess_text(text):\n",
    "    # Lowercase the text\n",
    "    text = text.lower()\n",
    "    # Tokenization (split text into words)\n",
    "    words = text.split()\n",
    "    # Remove stopwords, punctuation, or any other noise if needed\n",
    "    # For simplicity, we'll skip these steps in this example\n",
    "    # You can enhance this preprocessing based on your dataset and requirements\n",
    "    return \" \".join(words)\n",
    "\n",
    "data['text'] = data['text'].apply(preprocess_text)\n",
    "\n",
    "# Convert text labels into numerical format if required\n",
    "# For simplicity, assuming labels are already in numerical format\n",
    "\n",
    "# Step 2: Feature Extraction\n",
    "# Convert text data into numerical feature vectors\n",
    "# You can experiment with different vectorization techniques (e.g., CountVectorizer, TfidfVectorizer)\n",
    "vectorizer = TfidfVectorizer()  # Using TF-IDF for feature extraction\n",
    "X = vectorizer.fit_transform(data['text'])\n",
    "y = data['label']\n",
    "\n",
    "# Step 3: Model Training\n",
    "# Split data into train and test sets\n",
    "X_train, X_test, y_train, y_test = train_test_split(X, y, test_size=0.2, random_state=42)\n",
    "\n",
    "# Train the Naive Bayes classifier\n",
    "classifier = MultinomialNB()\n",
    "classifier.fit(X_train, y_train)\n",
    "\n",
    "# Step 4: Model Evaluation\n",
    "# Predictions on the test set\n",
    "y_pred = classifier.predict(X_test)\n",
    "\n",
    "# Evaluate the model\n",
    "accuracy = accuracy_score(y_test, y_pred)\n",
    "print(\"Accuracy:\", accuracy)\n",
    "print(\"Classification Report:\")\n",
    "print(classification_report(y_test, y_pred))\n",
    "\n",
    "# Step 5: Tuning and Optimization\n",
    "# Experiment with different feature extraction techniques and Naive Bayes variants\n",
    "# Tune hyperparameters if necessary"
   ]
  },
  {
   "cell_type": "code",
   "execution_count": null,
   "id": "514d7d56",
   "metadata": {},
   "outputs": [],
   "source": []
  }
 ],
 "metadata": {
  "kernelspec": {
   "display_name": "Python 3 (ipykernel)",
   "language": "python",
   "name": "python3"
  },
  "language_info": {
   "codemirror_mode": {
    "name": "ipython",
    "version": 3
   },
   "file_extension": ".py",
   "mimetype": "text/x-python",
   "name": "python",
   "nbconvert_exporter": "python",
   "pygments_lexer": "ipython3",
   "version": "3.10.9"
  }
 },
 "nbformat": 4,
 "nbformat_minor": 5
}
